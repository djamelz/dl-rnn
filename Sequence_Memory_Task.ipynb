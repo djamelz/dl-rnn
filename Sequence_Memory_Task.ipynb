{
 "cells": [
  {
   "cell_type": "markdown",
   "metadata": {},
   "source": [
    "# Memorizing elements of a sequence"
   ]
  },
  {
   "cell_type": "markdown",
   "metadata": {},
   "source": [
    "The goal of this task is to memorize some specific elements of a sequence a symbols with variable length. This toy example is useful to test the capacity of RNNs to keep representations in memory over long sequences."
   ]
  },
  {
   "cell_type": "code",
   "execution_count": 2,
   "metadata": {
    "collapsed": true
   },
   "outputs": [],
   "source": [
    "%matplotlib inline\n",
    "%load_ext autoreload\n",
    "%autoreload 2"
   ]
  },
  {
   "cell_type": "markdown",
   "metadata": {},
   "source": [
    "## One-hot encoding for string of symbols"
   ]
  },
  {
   "cell_type": "code",
   "execution_count": 3,
   "metadata": {
    "collapsed": false
   },
   "outputs": [],
   "source": [
    "# %load binary_code.py\n",
    "import numpy as np\n",
    "import matplotlib.pyplot as plt\n",
    "\n",
    "ALPHABET = np.asarray(list(\"abcd\"), dtype=object)\n",
    "\n",
    "\n",
    "def symbols_to_binarray(s, alphabet=ALPHABET, dtype=np.float32):\n",
    "    \"\"\"One-hot encode a sequence of symbols\n",
    "    \n",
    "    This numerical representation of a string of symbols is useful\n",
    "    to feed the data and expected labels to the input and output\n",
    "    layers of recurrent networks.\n",
    "    \"\"\"\n",
    "    alphabet = np.asarray(list(alphabet), dtype=object)\n",
    "    n_samples = len(s)\n",
    "    n_features = len(alphabet)\n",
    "\n",
    "    mapping = dict(zip(alphabet, range(n_features)))\n",
    "    \n",
    "    code = np.zeros((n_samples, n_features), dtype=dtype)\n",
    "    for i, e in enumerate(s):\n",
    "        code[i, mapping[e]] = 1.0\n",
    "    return code\n",
    "\n",
    "\n",
    "def binarray_to_symbols(code, alphabet=ALPHABET):\n",
    "    \"\"\"Convert encoded data by to a string of symbols\"\"\"\n",
    "    n_samples, n_features = code.shape\n",
    "    if n_features != len(alphabet):\n",
    "        raise ValueError(\n",
    "            \"code should have %d columns (instead of %d).\"\n",
    "            % (len(alphabet), n_features)\n",
    "        )\n",
    "\n",
    "    # Make sure that the alphabet is a numpy array of symbols\n",
    "    # to make it possible to leverage numpy fancy indexing\n",
    "    if not isinstance(alphabet, np.ndarray):\n",
    "        alphabet = np.asarray(list(alphabet), dtype='object')\n",
    "\n",
    "    return \"\".join(alphabet[code.argmax(axis=1)])\n",
    "\n",
    "\n",
    "def plot_binary_tape(encoded_sequence, alphabet=ALPHABET):\n",
    "    plt.matshow(encoded_sequence, cmap=plt.cm.gray)\n",
    "    plt.xticks(np.arange(len(alphabet)), alphabet)\n",
    "    \n",
    "\n",
    "def plot_parallel_tapes(input_data, output_data,\n",
    "                        input_symbols, output_symbols):\n",
    "    fig, axes = plt.subplots(nrows=1, ncols=2, figsize=(5, 10))\n",
    "    for ax, data in zip(axes, [input_data, output_data]):\n",
    "        ax.matshow(data, cmap=plt.cm.gray)\n",
    "        ax.set_xticks(np.arange(len(ALPHABET)))\n",
    "        ax.set_xticklabels(ALPHABET, fontsize=18)\n",
    "    fig.tight_layout()\n",
    "    plt.title(\"input: %r, output: %r\" % (input_symbols, output_symbols))"
   ]
  },
  {
   "cell_type": "code",
   "execution_count": 58,
   "metadata": {
    "collapsed": false
   },
   "outputs": [
    {
     "data": {
      "text/plain": [
       "array([[ 1.,  0.,  0.,  0.],\n",
       "       [ 0.,  1.,  0.,  0.],\n",
       "       [ 0.,  0.,  1.,  0.],\n",
       "       [ 0.,  0.,  0.,  1.],\n",
       "       [ 1.,  0.,  0.,  0.],\n",
       "       [ 0.,  0.,  1.,  0.],\n",
       "       [ 0.,  1.,  0.,  0.],\n",
       "       [ 0.,  0.,  0.,  1.]], dtype=float32)"
      ]
     },
     "execution_count": 58,
     "metadata": {},
     "output_type": "execute_result"
    }
   ],
   "source": [
    "symbol_sequence = \"abcdacbd\"\n",
    "encoded_sequence = symbols_to_binarray(symbol_sequence)\n",
    "encoded_sequence"
   ]
  },
  {
   "cell_type": "code",
   "execution_count": 5,
   "metadata": {
    "collapsed": false
   },
   "outputs": [
    {
     "data": {
      "image/png": "[encoded data removed]",
      "text/plain": [
       "<matplotlib.figure.Figure at 0x7fabd8117b10>"
      ]
     },
     "metadata": {},
     "output_type": "display_data"
    }
   ],
   "source": [
    "plot_binary_tape(encoded_sequence)"
   ]
  },
  {
   "cell_type": "code",
   "execution_count": 6,
   "metadata": {
    "collapsed": false
   },
   "outputs": [
    {
     "data": {
      "image/png": "[encoded data removed]",
      "text/plain": [
       "<matplotlib.figure.Figure at 0x7faba98d7b90>"
      ]
     },
     "metadata": {},
     "output_type": "display_data"
    }
   ],
   "source": [
    "plot_binary_tape(symbols_to_binarray('dcabd'))"
   ]
  },
  {
   "cell_type": "markdown",
   "metadata": {},
   "source": [
    "## Decoding back to a sequence of symbols"
   ]
  },
  {
   "cell_type": "markdown",
   "metadata": {
    "collapsed": true
   },
   "source": [
    "The `binary_to_symbols` function computes the inverse operation:"
   ]
  },
  {
   "cell_type": "code",
   "execution_count": 7,
   "metadata": {
    "collapsed": false
   },
   "outputs": [
    {
     "data": {
      "text/plain": [
       "'abcdacbd'"
      ]
     },
     "execution_count": 7,
     "metadata": {},
     "output_type": "execute_result"
    }
   ],
   "source": [
    "binarray_to_symbols(encoded_sequence)"
   ]
  },
  {
   "cell_type": "markdown",
   "metadata": {},
   "source": [
    "## Running count of symbols in a sequence\n",
    "\n",
    "Let's generate a dataset where the output tape should display the symbol that was the most frequent in the recent history of the input tape (over a fixed window size):"
   ]
  },
  {
   "cell_type": "code",
   "execution_count": 8,
   "metadata": {
    "collapsed": true
   },
   "outputs": [],
   "source": [
    "def running_max(encoded_input, window_size=3):\n",
    "    encoded_output = np.zeros_like(encoded_input)\n",
    "    for t in range(encoded_input.shape[0]):\n",
    "        window = encoded_input[t - window_size + 1 :t + 1]\n",
    "        frequencies = window.sum(axis=0)\n",
    "        winner = frequencies.argmax()\n",
    "        encoded_output[t, winner] = 1.\n",
    "    return encoded_output"
   ]
  },
  {
   "cell_type": "markdown",
   "metadata": {},
   "source": [
    "Let's run this function on the binary represenation of an example string of symbols:"
   ]
  },
  {
   "cell_type": "code",
   "execution_count": 9,
   "metadata": {
    "collapsed": true
   },
   "outputs": [],
   "source": [
    "input_sequence = 'abbaabcddccab'\n",
    "input_data = symbols_to_binarray(input_sequence)"
   ]
  },
  {
   "cell_type": "code",
   "execution_count": 10,
   "metadata": {
    "collapsed": false
   },
   "outputs": [
    {
     "name": "stdout",
     "output_type": "stream",
     "text": [
      "abbaabcddccab\n",
      "aabbaaabddcca\n"
     ]
    }
   ],
   "source": [
    "output_data = running_max(input_data)\n",
    "output_sequence = binarray_to_symbols(output_data)\n",
    "print(input_sequence)\n",
    "print(output_sequence)"
   ]
  },
  {
   "cell_type": "code",
   "execution_count": 11,
   "metadata": {
    "collapsed": false
   },
   "outputs": [
    {
     "data": {
      "image/png": "[encoded data removed]",
      "text/plain": [
       "<matplotlib.figure.Figure at 0x7faba9931b50>"
      ]
     },
     "metadata": {},
     "output_type": "display_data"
    }
   ],
   "source": [
    "plot_parallel_tapes(input_data, output_data,\n",
    "                    input_sequence, output_sequence)"
   ]
  },
  {
   "cell_type": "markdown",
   "metadata": {},
   "source": [
    "This seems to work as expected. Note that in case of tie, 'a' is favored over 'b', 'b' over 'c' and so on. The function to learn is therefore fully deterministic. Let's generate a reference dataset for our RNN experiments.\n",
    "\n",
    "For let's start with random input sequences:"
   ]
  },
  {
   "cell_type": "code",
   "execution_count": 12,
   "metadata": {
    "collapsed": true
   },
   "outputs": [],
   "source": [
    "def generate_sequences(n_sequences=1000, min_length=5, max_length=15,\n",
    "                       alphabet=ALPHABET, seed=None):\n",
    "    sequences = []\n",
    "    rng = np.random.RandomState(seed)\n",
    "    for i in range(n_sequences):\n",
    "        length = rng.randint(min_length, max_length)\n",
    "        sequences.append(\"\".join(rng.choice(ALPHABET, length)))\n",
    "    return sequences"
   ]
  },
  {
   "cell_type": "code",
   "execution_count": 13,
   "metadata": {
    "collapsed": false
   },
   "outputs": [
    {
     "data": {
      "text/plain": [
       "['addddbdbca', 'caaacbcddcab', 'bbabadadbc', 'cdabd', 'dcdabbbd']"
      ]
     },
     "execution_count": 13,
     "metadata": {},
     "output_type": "execute_result"
    }
   ],
   "source": [
    "generate_sequences(n_sequences=5, seed=0)"
   ]
  },
  {
   "cell_type": "markdown",
   "metadata": {},
   "source": [
    "The `seed` parameter makes possible to control the random number generator to get seemingly random yet reproducible deterministic outcomes:"
   ]
  },
  {
   "cell_type": "code",
   "execution_count": 14,
   "metadata": {
    "collapsed": false
   },
   "outputs": [
    {
     "data": {
      "text/plain": [
       "['addddbdbca', 'caaacbcddcab', 'bbabadadbc', 'cdabd', 'dcdabbbd']"
      ]
     },
     "execution_count": 14,
     "metadata": {},
     "output_type": "execute_result"
    }
   ],
   "source": [
    "generate_sequences(n_sequences=5, seed=0)"
   ]
  },
  {
   "cell_type": "code",
   "execution_count": 15,
   "metadata": {
    "collapsed": false
   },
   "outputs": [
    {
     "data": {
      "text/plain": [
       "['daadbdbdaa', 'adbacb', 'acbcada', 'addbbdc', 'cbbbd']"
      ]
     },
     "execution_count": 15,
     "metadata": {},
     "output_type": "execute_result"
    }
   ],
   "source": [
    "generate_sequences(n_sequences=5, seed=1)"
   ]
  },
  {
   "cell_type": "markdown",
   "metadata": {},
   "source": [
    "Now that we have random input sequences, we can compute the expected ouput for each of them and generate a full dataset to train our networks:"
   ]
  },
  {
   "cell_type": "code",
   "execution_count": 16,
   "metadata": {
    "collapsed": false
   },
   "outputs": [],
   "source": [
    "def generate_running_max_task_data(n_sequences=1000, min_length=5,\n",
    "                                   max_length=15, window_size=3,\n",
    "                                   alphabet=ALPHABET, seed=None):\n",
    "    \n",
    "    # Generate the input sequences as symbols\n",
    "    input_sequences = generate_sequences(\n",
    "        n_sequences=n_sequences, min_length=min_length,\n",
    "        max_length=max_length, alphabet=alphabet, seed=seed)\n",
    "    output_sequences = []\n",
    "\n",
    "    # Allocate all the data arrays at once and pad with zeros\n",
    "    n_features = len(alphabet)\n",
    "    input_data = np.zeros((n_sequences, max_length, n_features),\n",
    "                          dtype=np.float32)\n",
    "    output_data = np.zeros((n_sequences, max_length, n_features),\n",
    "                           dtype=np.float32)\n",
    "    \n",
    "    for sequence_idx, input_sequence in enumerate(input_sequences):\n",
    "        # store the encoded sequence to the input tape\n",
    "        encoded_input = symbols_to_binarray(input_sequence)\n",
    "        input_data[sequence_idx, 0:len(input_sequence)] = encoded_input\n",
    "        encoded_output = running_max(encoded_input,\n",
    "                                     window_size=window_size)\n",
    "        output_data[sequence_idx, 0:len(encoded_output)] = encoded_output\n",
    "        output_sequences.append(binarray_to_symbols(encoded_output))\n",
    "\n",
    "    return input_sequences, output_sequences, input_data, output_data"
   ]
  },
  {
   "cell_type": "markdown",
   "metadata": {},
   "source": [
    "Let's try it to generate a toy dataset:"
   ]
  },
  {
   "cell_type": "code",
   "execution_count": 17,
   "metadata": {
    "collapsed": false
   },
   "outputs": [],
   "source": [
    "(\n",
    "    input_sequences,\n",
    "    output_sequences,\n",
    "    input_data,\n",
    "    output_data,\n",
    ") = generate_running_max_task_data(n_sequences=10, seed=0)"
   ]
  },
  {
   "cell_type": "code",
   "execution_count": 18,
   "metadata": {
    "collapsed": false
   },
   "outputs": [
    {
     "data": {
      "text/plain": [
       "[('addddbdbca', 'aadddddbba'),\n",
       " ('caaacbcddcab', 'aaaaaacbddaa'),\n",
       " ('bbabadadbc', 'aabbaaadab'),\n",
       " ('cdabd', 'aaaaa'),\n",
       " ('dcdabbbd', 'aadaabbb'),\n",
       " ('dcadd', 'aaaad'),\n",
       " ('dacaaab', 'aaaaaaa'),\n",
       " ('caabdabccd', 'aaaaaaaacc'),\n",
       " ('bbdbbdcddccda', 'aabbbbbdddcca'),\n",
       " ('babcadac', 'aabaaaaa')]"
      ]
     },
     "execution_count": 18,
     "metadata": {},
     "output_type": "execute_result"
    }
   ],
   "source": [
    "zip(input_sequences, output_sequences)"
   ]
  },
  {
   "cell_type": "code",
   "execution_count": 19,
   "metadata": {
    "collapsed": false
   },
   "outputs": [
    {
     "data": {
      "image/png": "[encoded data removed]",
      "text/plain": [
       "<matplotlib.figure.Figure at 0x7faba9881050>"
      ]
     },
     "metadata": {},
     "output_type": "display_data"
    },
    {
     "data": {
      "image/png": "[encoded data removed]",
      "text/plain": [
       "<matplotlib.figure.Figure at 0x7faba96dfa10>"
      ]
     },
     "metadata": {},
     "output_type": "display_data"
    },
    {
     "data": {
      "image/png": "[encoded data removed]",
      "text/plain": [
       "<matplotlib.figure.Figure at 0x7faba97ae3d0>"
      ]
     },
     "metadata": {},
     "output_type": "display_data"
    }
   ],
   "source": [
    "for i in range(3):\n",
    "    plot_parallel_tapes(input_data[i], output_data[i],\n",
    "                        input_sequences[i], output_sequences[i])"
   ]
  },
  {
   "cell_type": "code",
   "execution_count": 20,
   "metadata": {
    "collapsed": false
   },
   "outputs": [
    {
     "data": {
      "text/plain": [
       "(10, 15, 4)"
      ]
     },
     "execution_count": 20,
     "metadata": {},
     "output_type": "execute_result"
    }
   ],
   "source": [
    "input_data.shape"
   ]
  },
  {
   "cell_type": "markdown",
   "metadata": {},
   "source": [
    "Let's generate some reference data for this task with fixed random seeds to make it possible to compare the results of different study groups on the same data.\n",
    "\n",
    "We create 2 datasets, one with only short sequences (from 5 to 15 steps in the input sequence) and one with long sequences (from 20 to 50 steps)."
   ]
  },
  {
   "cell_type": "code",
   "execution_count": 21,
   "metadata": {
    "collapsed": true
   },
   "outputs": [],
   "source": [
    "!rm -rf data/running_max_task"
   ]
  },
  {
   "cell_type": "code",
   "execution_count": 22,
   "metadata": {
    "collapsed": false
   },
   "outputs": [],
   "source": [
    "dataset_specs = [\n",
    "    ('short', dict(min_length=5, max_length=15, window_size=3)),\n",
    "    ('long', dict(min_length=20, max_length=50, window_size=10)),\n",
    "]\n",
    "     \n",
    "fold_specs = [\n",
    "    ('train', dict(n_sequences=5000, seed=0)),\n",
    "    ('validation', dict(n_sequences=1000, seed=1)),\n",
    "    ('test', dict(n_sequences=1000, seed=2)),\n",
    "]\n",
    "\n",
    "data_folder = 'data/running_max'"
   ]
  },
  {
   "cell_type": "code",
   "execution_count": 23,
   "metadata": {
    "collapsed": false
   },
   "outputs": [
    {
     "name": "stdout",
     "output_type": "stream",
     "text": [
      "Saving symbol sequences data/running_max/short_sequence_train.json\n",
      "Saving data data/running_max/short_input_data_train.npy\n",
      "Saving data data/running_max/short_output_data_train.npy\n",
      "Saving symbol sequences data/running_max/short_sequence_validation.json\n",
      "Saving data data/running_max/short_input_data_validation.npy\n",
      "Saving data data/running_max/short_output_data_validation.npy\n",
      "Saving symbol sequences data/running_max/short_sequence_test.json\n",
      "Saving data data/running_max/short_input_data_test.npy\n",
      "Saving data data/running_max/short_output_data_test.npy\n",
      "Saving symbol sequences data/running_max/long_sequence_train.json\n",
      "Saving data data/running_max/long_input_data_train.npy\n",
      "Saving data data/running_max/long_output_data_train.npy\n",
      "Saving symbol sequences data/running_max/long_sequence_validation.json\n",
      "Saving data data/running_max/long_input_data_validation.npy\n",
      "Saving data data/running_max/long_output_data_validation.npy\n",
      "Saving symbol sequences data/running_max/long_sequence_test.json\n",
      "Saving data data/running_max/long_input_data_test.npy\n",
      "Saving data data/running_max/long_output_data_test.npy\n"
     ]
    }
   ],
   "source": [
    "import os.path as op\n",
    "import os\n",
    "from itertools import product\n",
    "import pandas as pd\n",
    "\n",
    "\n",
    "def write_dataset(data_folder, generate_data, dataset_specs, fold_specs):\n",
    "    if not op.isdir(data_folder):\n",
    "        os.makedirs(data_folder)\n",
    "\n",
    "    for combined_specs in product(dataset_specs, fold_specs):\n",
    "        ds_name, ds_params = combined_specs[0]\n",
    "        fold_name, fold_params = combined_specs[1]\n",
    "        params = {}\n",
    "        params.update(ds_params)\n",
    "        params.update(fold_params)\n",
    "\n",
    "        (input_sequences, output_sequences,\n",
    "         input_data, output_data) = generate_data(**params)\n",
    "\n",
    "        df = pd.DataFrame({\n",
    "                'input': input_sequences,\n",
    "                'output': output_sequences,\n",
    "        })\n",
    "        fname = op.join(data_folder, '%s_sequence_%s.json'\n",
    "                        % (ds_name, fold_name))\n",
    "        print('Saving symbol sequences %s' % fname)\n",
    "        df.to_json(fname, orient='records')\n",
    "\n",
    "        for name, data in (('input', input_data), ('output', output_data)):\n",
    "            fname = op.join(data_folder, '%s_%s_data_%s.npy'\n",
    "                            % (ds_name, name, fold_name))\n",
    "            print('Saving data %s' % fname)\n",
    "            np.save(fname, data)\n",
    "\n",
    "\n",
    "\n",
    "write_dataset(data_folder, generate_running_max_task_data,\n",
    "              dataset_specs, fold_specs)"
   ]
  },
  {
   "cell_type": "code",
   "execution_count": 24,
   "metadata": {
    "collapsed": false
   },
   "outputs": [
    {
     "data": {
      "text/html": [
       "<div style=\"max-height:1000px;max-width:1500px;overflow:auto;\">\n",
       "<table border=\"1\" class=\"dataframe\">\n",
       "  <thead>\n",
       "    <tr style=\"text-align: right;\">\n",
       "      <th></th>\n",
       "      <th>input</th>\n",
       "      <th>output</th>\n",
       "    </tr>\n",
       "  </thead>\n",
       "  <tbody>\n",
       "    <tr>\n",
       "      <th>0</th>\n",
       "      <td>addddbdbca</td>\n",
       "      <td>aadddddbba</td>\n",
       "    </tr>\n",
       "    <tr>\n",
       "      <th>1</th>\n",
       "      <td>caaacbcddcab</td>\n",
       "      <td>aaaaaacbddaa</td>\n",
       "    </tr>\n",
       "    <tr>\n",
       "      <th>2</th>\n",
       "      <td>bbabadadbc</td>\n",
       "      <td>aabbaaadab</td>\n",
       "    </tr>\n",
       "    <tr>\n",
       "      <th>3</th>\n",
       "      <td>cdabd</td>\n",
       "      <td>aaaaa</td>\n",
       "    </tr>\n",
       "    <tr>\n",
       "      <th>4</th>\n",
       "      <td>dcdabbbd</td>\n",
       "      <td>aadaabbb</td>\n",
       "    </tr>\n",
       "  </tbody>\n",
       "</table>\n",
       "</div>"
      ],
      "text/plain": [
       "          input        output\n",
       "0    addddbdbca    aadddddbba\n",
       "1  caaacbcddcab  aaaaaacbddaa\n",
       "2    bbabadadbc    aabbaaadab\n",
       "3         cdabd         aaaaa\n",
       "4      dcdabbbd      aadaabbb"
      ]
     },
     "execution_count": 24,
     "metadata": {},
     "output_type": "execute_result"
    }
   ],
   "source": [
    "short_symbols_train = pd.read_json(\n",
    "    'data/running_max/short_sequence_train.json')\n",
    "short_symbols_train.head()"
   ]
  },
  {
   "cell_type": "code",
   "execution_count": 25,
   "metadata": {
    "collapsed": true
   },
   "outputs": [],
   "source": [
    "X_short_train = np.load('data/running_max/short_input_data_train.npy')\n",
    "Y_short_train = np.load('data/running_max/short_output_data_train.npy')\n",
    "\n",
    "X_short_validation = np.load('data/running_max/short_input_data_validation.npy')\n",
    "Y_short_validation = np.load('data/running_max/short_output_data_validation.npy')"
   ]
  },
  {
   "cell_type": "code",
   "execution_count": 26,
   "metadata": {
    "collapsed": false
   },
   "outputs": [
    {
     "data": {
      "image/png": "[encoded data removed]",
      "text/plain": [
       "<matplotlib.figure.Figure at 0x7faba92dc950>"
      ]
     },
     "metadata": {},
     "output_type": "display_data"
    },
    {
     "data": {
      "image/png": "[encoded data removed]",
      "text/plain": [
       "<matplotlib.figure.Figure at 0x7faba9524410>"
      ]
     },
     "metadata": {},
     "output_type": "display_data"
    },
    {
     "data": {
      "image/png": "[encoded data removed]",
      "text/plain": [
       "<matplotlib.figure.Figure at 0x7faba92ce750>"
      ]
     },
     "metadata": {},
     "output_type": "display_data"
    }
   ],
   "source": [
    "for i in range(3):\n",
    "    plot_parallel_tapes(X_short_train[i], Y_short_train[i],\n",
    "                        short_symbols_train['input'][i],\n",
    "                        short_symbols_train['output'][i])"
   ]
  },
  {
   "cell_type": "markdown",
   "metadata": {},
   "source": [
    "## Training a simple RNN "
   ]
  },
  {
   "cell_type": "code",
   "execution_count": 57,
   "metadata": {
    "collapsed": false
   },
   "outputs": [
    {
     "ename": "TypeError",
     "evalue": "unsupported operand type(s) for /: 'list' and 'int'",
     "output_type": "error",
     "traceback": [
      "\u001b[1;31m---------------------------------------------------------------------------\u001b[0m",
      "\u001b[1;31mTypeError\u001b[0m                                 Traceback (most recent call last)",
      "\u001b[1;32m<ipython-input-57-c3ba95372167>\u001b[0m in \u001b[0;36m<module>\u001b[1;34m()\u001b[0m\n\u001b[0;32m     31\u001b[0m         \u001b[0mX_val\u001b[0m \u001b[1;33m=\u001b[0m \u001b[0mX_short_validation\u001b[0m\u001b[1;33m[\u001b[0m\u001b[0mstart_idx\u001b[0m\u001b[1;33m:\u001b[0m\u001b[0mend_idx\u001b[0m\u001b[1;33m]\u001b[0m\u001b[1;33m\u001b[0m\u001b[0m\n\u001b[0;32m     32\u001b[0m         \u001b[0mY_val\u001b[0m \u001b[1;33m=\u001b[0m \u001b[0mY_short_validation\u001b[0m\u001b[1;33m[\u001b[0m\u001b[0mstart_idx\u001b[0m\u001b[1;33m:\u001b[0m\u001b[0mend_idx\u001b[0m\u001b[1;33m]\u001b[0m\u001b[1;33m\u001b[0m\u001b[0m\n\u001b[1;32m---> 33\u001b[1;33m         \u001b[0mval_loss\u001b[0m \u001b[1;33m+=\u001b[0m \u001b[0mmodel\u001b[0m\u001b[1;33m.\u001b[0m\u001b[0mloss\u001b[0m\u001b[1;33m(\u001b[0m\u001b[0mX_val\u001b[0m\u001b[1;33m,\u001b[0m \u001b[0mY_val\u001b[0m\u001b[1;33m)\u001b[0m \u001b[1;33m/\u001b[0m \u001b[0mnum_batch_validation\u001b[0m\u001b[1;33m\u001b[0m\u001b[0m\n\u001b[0m\u001b[0;32m     34\u001b[0m \u001b[1;33m\u001b[0m\u001b[0m\n\u001b[0;32m     35\u001b[0m     print(\"epoch %d, train loss: %f, validation loss: %f\"\n",
      "\u001b[1;31mTypeError\u001b[0m: unsupported operand type(s) for /: 'list' and 'int'"
     ]
    }
   ],
   "source": [
    "from lstm import LstmMiniBatch\n",
    "\n",
    "n_features = X_short_train.shape[2]\n",
    "n_ouputs = Y_short_train.shape[2]\n",
    "batch_size = 256\n",
    "\n",
    "model = LstmMiniBatch(n_features, 10, n_ouputs, lr=.5,\n",
    "                     batch_size=batch_size, single_output=False,\n",
    "                     cost_function='cxe')\n",
    "epochs = 500\n",
    "original_patience = 3\n",
    "tolerance = 1e-4\n",
    "best_val_loss = None\n",
    "patience = original_patience\n",
    "\n",
    "for epoch in range(epochs):\n",
    "    train_loss, val_loss = 0, 0\n",
    "    num_batch_train = len(X_short_train) / batch_size\n",
    "    for i in range(num_batch_train):\n",
    "        start_idx = i * batch_size\n",
    "        end_idx = (i + 1) * batch_size\n",
    "        X_train = X_short_train[start_idx:end_idx]\n",
    "        Y_train = Y_short_train[start_idx:end_idx]\n",
    "        train_loss += model.train(X_train, Y_train) / num_batch_train\n",
    "    \n",
    "    # Monitor the validation score at each epoch\n",
    "    num_batch_validation = len(X_short_validation) / batch_size\n",
    "    for i in range(num_batch_validation):\n",
    "        start_idx = i * batch_size\n",
    "        end_idx = (i + 1) * batch_size\n",
    "        X_val = X_short_validation[start_idx:end_idx]\n",
    "        Y_val = Y_short_validation[start_idx:end_idx]\n",
    "        val_loss += model.loss(X_val, Y_val) / num_batch_validation\n",
    "\n",
    "    print(\"epoch %d, train loss: %f, validation loss: %f\"\n",
    "          % (epoch + 1, train_loss, val_loss))\n",
    "    \n",
    "    # Patience based early stopping on validation score\n",
    "    if best_val_loss is None:\n",
    "        best_val_loss = val_loss\n",
    "    elif val_loss < best_val_loss - tolerance:\n",
    "        patience = original_patience\n",
    "        best_val_loss = val_loss\n",
    "    else:\n",
    "        patience -= 1\n",
    "        if patience < 0:\n",
    "            print(\"Validation score stopped improving\")\n",
    "            break"
   ]
  },
  {
   "cell_type": "code",
   "execution_count": 27,
   "metadata": {
    "collapsed": false
   },
   "outputs": [
    {
     "data": {
      "text/plain": [
       "(5000, 15, 4)"
      ]
     },
     "execution_count": 27,
     "metadata": {},
     "output_type": "execute_result"
    }
   ],
   "source": [
    "X_short_train.shape"
   ]
  },
  {
   "cell_type": "code",
   "execution_count": 54,
   "metadata": {
    "collapsed": false
   },
   "outputs": [],
   "source": [
    "from rnn import RnnMiniBatch\n",
    "\n",
    "\n",
    "n_features = X_short_train.shape[2]\n",
    "n_ouputs = Y_short_train.shape[2]\n",
    "batch_size = 256\n",
    "\n",
    "model = RnnMiniBatch(n_features, 10, n_ouputs, lr=.5,\n",
    "                     batch_size=batch_size, single_output=False,\n",
    "                     cost_function='cxe')"
   ]
  },
  {
   "cell_type": "code",
   "execution_count": 55,
   "metadata": {
    "collapsed": false
   },
   "outputs": [
    {
     "name": "stdout",
     "output_type": "stream",
     "text": [
      "epoch 1, train loss: 0.443452, validation loss: 0.430692\n",
      "epoch 2, train loss: 0.424394, validation loss: 0.423860\n",
      "epoch 3, train loss: 0.419886, validation loss: 0.421059\n",
      "epoch 4, train loss: 0.416257, validation loss: 0.416289\n",
      "epoch 5, train loss: 0.408801, validation loss: 0.404805\n",
      "epoch 6, train loss: 0.391453, validation loss: 0.381910\n",
      "epoch 7, train loss: 0.368758, validation loss: 0.362456\n",
      "epoch 8, train loss: 0.351227, validation loss: 0.347328\n",
      "epoch 9, train loss: 0.337885, validation loss: 0.336029\n",
      "epoch 10, train loss: 0.327855, validation loss: 0.327113\n",
      "epoch 11, train loss: 0.319539, validation loss: 0.319106\n",
      "epoch 12, train loss: 0.311615, validation loss: 0.310734\n",
      "epoch 13, train loss: 0.302789, validation loss: 0.300676\n",
      "epoch 14, train loss: 0.291838, validation loss: 0.288018\n",
      "epoch 15, train loss: 0.278647, validation loss: 0.273848\n",
      "epoch 16, train loss: 0.265141, validation loss: 0.260555\n",
      "epoch 17, train loss: 0.253176, validation loss: 0.249384\n",
      "epoch 18, train loss: 0.243327, validation loss: 0.240460\n",
      "epoch 19, train loss: 0.235471, validation loss: 0.233344\n",
      "epoch 20, train loss: 0.229386, validation loss: 0.226939\n",
      "epoch 21, train loss: 0.224719, validation loss: 0.220958\n",
      "epoch 22, train loss: 0.220785, validation loss: 0.217211\n",
      "epoch 23, train loss: 0.216754, validation loss: 0.215336\n",
      "epoch 24, train loss: 0.213162, validation loss: 0.228193\n",
      "epoch 25, train loss: 0.214787, validation loss: 0.209113\n",
      "epoch 26, train loss: 0.206867, validation loss: 0.216673\n",
      "epoch 27, train loss: 0.210525, validation loss: 0.204951\n",
      "epoch 28, train loss: 0.204433, validation loss: 0.216698\n",
      "epoch 29, train loss: 0.205975, validation loss: 0.201128\n",
      "epoch 30, train loss: 0.201253, validation loss: 0.212236\n",
      "epoch 31, train loss: 0.202932, validation loss: 0.198230\n",
      "epoch 32, train loss: 0.199007, validation loss: 0.207862\n",
      "epoch 33, train loss: 0.200258, validation loss: 0.195698\n",
      "epoch 34, train loss: 0.196853, validation loss: 0.204678\n",
      "epoch 35, train loss: 0.198022, validation loss: 0.193468\n",
      "epoch 36, train loss: 0.194833, validation loss: 0.202049\n",
      "epoch 37, train loss: 0.196044, validation loss: 0.191461\n",
      "epoch 38, train loss: 0.192888, validation loss: 0.199764\n",
      "epoch 39, train loss: 0.194253, validation loss: 0.189669\n",
      "epoch 40, train loss: 0.191005, validation loss: 0.197716\n",
      "epoch 41, train loss: 0.192608, validation loss: 0.188092\n",
      "epoch 42, train loss: 0.189199, validation loss: 0.195858\n",
      "epoch 43, train loss: 0.191052, validation loss: 0.186629\n",
      "epoch 44, train loss: 0.187494, validation loss: 0.194143\n",
      "epoch 45, train loss: 0.189492, validation loss: 0.185162\n",
      "epoch 46, train loss: 0.185865, validation loss: 0.192491\n",
      "epoch 47, train loss: 0.187872, validation loss: 0.183670\n",
      "epoch 48, train loss: 0.184282, validation loss: 0.190829\n",
      "epoch 49, train loss: 0.186192, validation loss: 0.182159\n",
      "epoch 50, train loss: 0.182742, validation loss: 0.189099\n",
      "epoch 51, train loss: 0.184461, validation loss: 0.180628\n",
      "epoch 52, train loss: 0.181243, validation loss: 0.187268\n",
      "epoch 53, train loss: 0.182693, validation loss: 0.179085\n",
      "epoch 54, train loss: 0.179774, validation loss: 0.185345\n",
      "epoch 55, train loss: 0.180901, validation loss: 0.177545\n",
      "epoch 56, train loss: 0.178320, validation loss: 0.183373\n",
      "epoch 57, train loss: 0.179107, validation loss: 0.176015\n",
      "epoch 58, train loss: 0.176873, validation loss: 0.181410\n",
      "epoch 59, train loss: 0.177336, validation loss: 0.174497\n",
      "epoch 60, train loss: 0.175428, validation loss: 0.179513\n",
      "epoch 61, train loss: 0.175610, validation loss: 0.172995\n",
      "epoch 62, train loss: 0.173991, validation loss: 0.177723\n",
      "epoch 63, train loss: 0.173942, validation loss: 0.171514\n",
      "epoch 64, train loss: 0.172571, validation loss: 0.176051\n",
      "epoch 65, train loss: 0.172334, validation loss: 0.170062\n",
      "epoch 66, train loss: 0.171177, validation loss: 0.174493\n",
      "epoch 67, train loss: 0.170783, validation loss: 0.168644\n",
      "epoch 68, train loss: 0.169814, validation loss: 0.173032\n",
      "epoch 69, train loss: 0.169283, validation loss: 0.167260\n",
      "epoch 70, train loss: 0.168485, validation loss: 0.171649\n",
      "epoch 71, train loss: 0.167831, validation loss: 0.165906\n",
      "epoch 72, train loss: 0.167191, validation loss: 0.170328\n",
      "epoch 73, train loss: 0.166422, validation loss: 0.164580\n",
      "epoch 74, train loss: 0.165928, validation loss: 0.169051\n",
      "epoch 75, train loss: 0.165057, validation loss: 0.163279\n",
      "epoch 76, train loss: 0.164697, validation loss: 0.167807\n",
      "epoch 77, train loss: 0.163733, validation loss: 0.162005\n",
      "epoch 78, train loss: 0.163495, validation loss: 0.166587\n",
      "epoch 79, train loss: 0.162450, validation loss: 0.160760\n",
      "epoch 80, train loss: 0.162322, validation loss: 0.165389\n",
      "epoch 81, train loss: 0.161208, validation loss: 0.159544\n",
      "epoch 82, train loss: 0.161175, validation loss: 0.164221\n",
      "epoch 83, train loss: 0.160005, validation loss: 0.158360\n",
      "epoch 84, train loss: 0.160053, validation loss: 0.163096\n",
      "epoch 85, train loss: 0.158839, validation loss: 0.157208\n",
      "epoch 86, train loss: 0.158955, validation loss: 0.162029\n",
      "epoch 87, train loss: 0.157707, validation loss: 0.156087\n",
      "epoch 88, train loss: 0.157879, validation loss: 0.161023\n",
      "epoch 89, train loss: 0.156607, validation loss: 0.154996\n",
      "epoch 90, train loss: 0.156820, validation loss: 0.160060\n",
      "epoch 91, train loss: 0.155535, validation loss: 0.153930\n",
      "epoch 92, train loss: 0.155777, validation loss: 0.159110\n",
      "epoch 93, train loss: 0.154488, validation loss: 0.152884\n",
      "epoch 94, train loss: 0.154746, validation loss: 0.158143\n",
      "epoch 95, train loss: 0.153461, validation loss: 0.151855\n",
      "epoch 96, train loss: 0.153722, validation loss: 0.157141\n",
      "epoch 97, train loss: 0.152455, validation loss: 0.150837\n",
      "epoch 98, train loss: 0.152701, validation loss: 0.156102\n",
      "epoch 99, train loss: 0.151467, validation loss: 0.149828\n",
      "epoch 100, train loss: 0.151682, validation loss: 0.155032\n",
      "epoch 101, train loss: 0.150499, validation loss: 0.148826\n",
      "epoch 102, train loss: 0.150662, validation loss: 0.153937\n",
      "epoch 103, train loss: 0.149550, validation loss: 0.147831\n",
      "epoch 104, train loss: 0.149642, validation loss: 0.152826\n",
      "epoch 105, train loss: 0.148619, validation loss: 0.146844\n",
      "epoch 106, train loss: 0.148625, validation loss: 0.151708\n",
      "epoch 107, train loss: 0.147707, validation loss: 0.145871\n",
      "epoch 108, train loss: 0.147614, validation loss: 0.150596\n",
      "epoch 109, train loss: 0.146815, validation loss: 0.144918\n",
      "epoch 110, train loss: 0.146615, validation loss: 0.149500\n",
      "epoch 111, train loss: 0.145945, validation loss: 0.143992\n",
      "epoch 112, train loss: 0.145634, validation loss: 0.148433\n",
      "epoch 113, train loss: 0.145100, validation loss: 0.143101\n",
      "epoch 114, train loss: 0.144678, validation loss: 0.147403\n",
      "epoch 115, train loss: 0.144280, validation loss: 0.142247\n",
      "epoch 116, train loss: 0.143753, validation loss: 0.146412\n",
      "epoch 117, train loss: 0.143487, validation loss: 0.141435\n",
      "epoch 118, train loss: 0.142866, validation loss: 0.145461\n",
      "epoch 119, train loss: 0.142723, validation loss: 0.140663\n",
      "epoch 120, train loss: 0.142021, validation loss: 0.144548\n",
      "epoch 121, train loss: 0.141989, validation loss: 0.139931\n",
      "epoch 122, train loss: 0.141219, validation loss: 0.143672\n",
      "epoch 123, train loss: 0.141285, validation loss: 0.139236\n",
      "epoch 124, train loss: 0.140461, validation loss: 0.142833\n",
      "epoch 125, train loss: 0.140610, validation loss: 0.138576\n",
      "epoch 126, train loss: 0.139745, validation loss: 0.142032\n",
      "epoch 127, train loss: 0.139963, validation loss: 0.137946\n",
      "epoch 128, train loss: 0.139068, validation loss: 0.141267\n",
      "epoch 129, train loss: 0.139341, validation loss: 0.137345\n",
      "epoch 130, train loss: 0.138425, validation loss: 0.140537\n",
      "epoch 131, train loss: 0.138743, validation loss: 0.136769\n",
      "epoch 132, train loss: 0.137813, validation loss: 0.139840\n",
      "epoch 133, train loss: 0.138166, validation loss: 0.136217\n",
      "epoch 134, train loss: 0.137229, validation loss: 0.139173\n",
      "epoch 135, train loss: 0.137608, validation loss: 0.135685\n",
      "epoch 136, train loss: 0.136669, validation loss: 0.138534\n",
      "epoch 137, train loss: 0.137068, validation loss: 0.135171\n",
      "epoch 138, train loss: 0.136131, validation loss: 0.137919\n",
      "epoch 139, train loss: 0.136543, validation loss: 0.134674\n",
      "epoch 140, train loss: 0.135612, validation loss: 0.137328\n",
      "epoch 141, train loss: 0.136032, validation loss: 0.134193\n",
      "epoch 142, train loss: 0.135109, validation loss: 0.136757\n",
      "epoch 143, train loss: 0.135534, validation loss: 0.133726\n",
      "epoch 144, train loss: 0.134621, validation loss: 0.136204\n",
      "epoch 145, train loss: 0.135048, validation loss: 0.133271\n",
      "epoch 146, train loss: 0.134147, validation loss: 0.135669\n",
      "epoch 147, train loss: 0.134573, validation loss: 0.132827\n",
      "epoch 148, train loss: 0.133686, validation loss: 0.135149\n",
      "epoch 149, train loss: 0.134107, validation loss: 0.132395\n",
      "epoch 150, train loss: 0.133235, validation loss: 0.134643\n",
      "epoch 151, train loss: 0.133651, validation loss: 0.131972\n",
      "epoch 152, train loss: 0.132795, validation loss: 0.134150\n",
      "epoch 153, train loss: 0.133203, validation loss: 0.131558\n",
      "epoch 154, train loss: 0.132364, validation loss: 0.133669\n",
      "epoch 155, train loss: 0.132763, validation loss: 0.131152\n",
      "epoch 156, train loss: 0.131942, validation loss: 0.133199\n",
      "epoch 157, train loss: 0.132331, validation loss: 0.130754\n",
      "epoch 158, train loss: 0.131528, validation loss: 0.132739\n",
      "epoch 159, train loss: 0.131905, validation loss: 0.130363\n",
      "epoch 160, train loss: 0.131121, validation loss: 0.132288\n",
      "epoch 161, train loss: 0.131485, validation loss: 0.129978\n",
      "epoch 162, train loss: 0.130720, validation loss: 0.131845\n",
      "epoch 163, train loss: 0.131071, validation loss: 0.129600\n",
      "epoch 164, train loss: 0.130325, validation loss: 0.131410\n",
      "epoch 165, train loss: 0.130662, validation loss: 0.129226\n",
      "epoch 166, train loss: 0.129935, validation loss: 0.130981\n",
      "epoch 167, train loss: 0.130258, validation loss: 0.128857\n",
      "epoch 168, train loss: 0.129551, validation loss: 0.130559\n",
      "epoch 169, train loss: 0.129858, validation loss: 0.128493\n",
      "epoch 170, train loss: 0.129170, validation loss: 0.130141\n",
      "epoch 171, train loss: 0.129463, validation loss: 0.128132\n",
      "epoch 172, train loss: 0.128792, validation loss: 0.129727\n",
      "epoch 173, train loss: 0.129071, validation loss: 0.127774\n",
      "epoch 174, train loss: 0.128418, validation loss: 0.129317\n",
      "epoch 175, train loss: 0.128683, validation loss: 0.127419\n",
      "epoch 176, train loss: 0.128046, validation loss: 0.128909\n",
      "epoch 177, train loss: 0.128298, validation loss: 0.127066\n",
      "epoch 178, train loss: 0.127677, validation loss: 0.128503\n",
      "epoch 179, train loss: 0.127916, validation loss: 0.126715\n",
      "epoch 180, train loss: 0.127309, validation loss: 0.128098\n",
      "epoch 181, train loss: 0.127537, validation loss: 0.126367\n",
      "epoch 182, train loss: 0.126943, validation loss: 0.127693\n",
      "epoch 183, train loss: 0.127161, validation loss: 0.126020\n",
      "epoch 184, train loss: 0.126578, validation loss: 0.127289\n",
      "epoch 185, train loss: 0.126788, validation loss: 0.125675\n",
      "epoch 186, train loss: 0.126215, validation loss: 0.126884\n",
      "epoch 187, train loss: 0.126418, validation loss: 0.125333\n",
      "epoch 188, train loss: 0.125855, validation loss: 0.126479\n",
      "epoch 189, train loss: 0.126053, validation loss: 0.124995\n",
      "epoch 190, train loss: 0.125497, validation loss: 0.126074\n",
      "epoch 191, train loss: 0.125692, validation loss: 0.124662\n",
      "epoch 192, train loss: 0.125142, validation loss: 0.125670\n",
      "epoch 193, train loss: 0.125335, validation loss: 0.124335\n",
      "epoch 194, train loss: 0.124792, validation loss: 0.125268\n",
      "epoch 195, train loss: 0.124984, validation loss: 0.124015\n",
      "epoch 196, train loss: 0.124447, validation loss: 0.124869\n",
      "epoch 197, train loss: 0.124638, validation loss: 0.123702\n",
      "epoch 198, train loss: 0.124107, validation loss: 0.124474\n",
      "epoch 199, train loss: 0.124297, validation loss: 0.123397\n",
      "epoch 200, train loss: 0.123774, validation loss: 0.124085\n",
      "epoch 201, train loss: 0.123963, validation loss: 0.123099\n",
      "epoch 202, train loss: 0.123447, validation loss: 0.123704\n",
      "epoch 203, train loss: 0.123636, validation loss: 0.122809\n",
      "epoch 204, train loss: 0.123128, validation loss: 0.123331\n",
      "epoch 205, train loss: 0.123315, validation loss: 0.122526\n",
      "epoch 206, train loss: 0.122816, validation loss: 0.122969\n",
      "epoch 207, train loss: 0.123002, validation loss: 0.122251\n",
      "epoch 208, train loss: 0.122512, validation loss: 0.122616\n",
      "epoch 209, train loss: 0.122696, validation loss: 0.121982\n",
      "epoch 210, train loss: 0.122216, validation loss: 0.122276\n",
      "epoch 211, train loss: 0.122397, validation loss: 0.121720\n",
      "epoch 212, train loss: 0.121929, validation loss: 0.121946\n",
      "epoch 213, train loss: 0.122107, validation loss: 0.121465\n",
      "epoch 214, train loss: 0.121649, validation loss: 0.121629\n",
      "epoch 215, train loss: 0.121824, validation loss: 0.121216\n",
      "epoch 216, train loss: 0.121377, validation loss: 0.121324\n",
      "epoch 217, train loss: 0.121548, validation loss: 0.120973\n",
      "epoch 218, train loss: 0.121114, validation loss: 0.121030\n",
      "epoch 219, train loss: 0.121280, validation loss: 0.120737\n",
      "epoch 220, train loss: 0.120858, validation loss: 0.120748\n",
      "epoch 221, train loss: 0.121020, validation loss: 0.120506\n",
      "epoch 222, train loss: 0.120609, validation loss: 0.120477\n",
      "epoch 223, train loss: 0.120766, validation loss: 0.120281\n",
      "epoch 224, train loss: 0.120368, validation loss: 0.120217\n",
      "epoch 225, train loss: 0.120520, validation loss: 0.120062\n",
      "epoch 226, train loss: 0.120134, validation loss: 0.119966\n",
      "epoch 227, train loss: 0.120281, validation loss: 0.119849\n",
      "epoch 228, train loss: 0.119907, validation loss: 0.119726\n",
      "epoch 229, train loss: 0.120049, validation loss: 0.119640\n",
      "epoch 230, train loss: 0.119687, validation loss: 0.119494\n",
      "epoch 231, train loss: 0.119823, validation loss: 0.119437\n",
      "epoch 232, train loss: 0.119473, validation loss: 0.119271\n",
      "epoch 233, train loss: 0.119603, validation loss: 0.119239\n",
      "epoch 234, train loss: 0.119265, validation loss: 0.119056\n",
      "epoch 235, train loss: 0.119390, validation loss: 0.119046\n",
      "epoch 236, train loss: 0.119064, validation loss: 0.118848\n",
      "epoch 237, train loss: 0.119183, validation loss: 0.118858\n",
      "epoch 238, train loss: 0.118868, validation loss: 0.118648\n",
      "epoch 239, train loss: 0.118981, validation loss: 0.118675\n",
      "epoch 240, train loss: 0.118678, validation loss: 0.118455\n",
      "epoch 241, train loss: 0.118786, validation loss: 0.118497\n",
      "epoch 242, train loss: 0.118493, validation loss: 0.118268\n",
      "epoch 243, train loss: 0.118595, validation loss: 0.118323\n",
      "epoch 244, train loss: 0.118314, validation loss: 0.118087\n",
      "epoch 245, train loss: 0.118411, validation loss: 0.118153\n",
      "epoch 246, train loss: 0.118139, validation loss: 0.117913\n",
      "epoch 247, train loss: 0.118231, validation loss: 0.117988\n",
      "epoch 248, train loss: 0.117970, validation loss: 0.117743\n",
      "epoch 249, train loss: 0.118057, validation loss: 0.117827\n",
      "epoch 250, train loss: 0.117806, validation loss: 0.117579\n",
      "epoch 251, train loss: 0.117887, validation loss: 0.117670\n",
      "epoch 252, train loss: 0.117646, validation loss: 0.117420\n",
      "epoch 253, train loss: 0.117722, validation loss: 0.117518\n",
      "epoch 254, train loss: 0.117491, validation loss: 0.117266\n",
      "epoch 255, train loss: 0.117562, validation loss: 0.117369\n",
      "epoch 256, train loss: 0.117340, validation loss: 0.117116\n",
      "epoch 257, train loss: 0.117406, validation loss: 0.117224\n",
      "epoch 258, train loss: 0.117193, validation loss: 0.116971\n",
      "epoch 259, train loss: 0.117254, validation loss: 0.117083\n",
      "epoch 260, train loss: 0.117051, validation loss: 0.116830\n",
      "epoch 261, train loss: 0.117106, validation loss: 0.116946\n",
      "epoch 262, train loss: 0.116912, validation loss: 0.116693\n",
      "epoch 263, train loss: 0.116961, validation loss: 0.116812\n",
      "epoch 264, train loss: 0.116778, validation loss: 0.116560\n",
      "epoch 265, train loss: 0.116821, validation loss: 0.116682\n",
      "epoch 266, train loss: 0.116647, validation loss: 0.116430\n",
      "epoch 267, train loss: 0.116684, validation loss: 0.116555\n",
      "epoch 268, train loss: 0.116520, validation loss: 0.116305\n",
      "epoch 269, train loss: 0.116551, validation loss: 0.116431\n",
      "epoch 270, train loss: 0.116396, validation loss: 0.116182\n",
      "epoch 271, train loss: 0.116420, validation loss: 0.116311\n",
      "epoch 272, train loss: 0.116276, validation loss: 0.116064\n",
      "epoch 273, train loss: 0.116293, validation loss: 0.116193\n",
      "epoch 274, train loss: 0.116159, validation loss: 0.115948\n",
      "epoch 275, train loss: 0.116169, validation loss: 0.116078\n",
      "epoch 276, train loss: 0.116045, validation loss: 0.115836\n",
      "epoch 277, train loss: 0.116048, validation loss: 0.115966\n",
      "epoch 278, train loss: 0.115935, validation loss: 0.115727\n",
      "epoch 279, train loss: 0.115930, validation loss: 0.115856\n",
      "epoch 280, train loss: 0.115827, validation loss: 0.115620\n",
      "epoch 281, train loss: 0.115815, validation loss: 0.115748\n",
      "epoch 282, train loss: 0.115722, validation loss: 0.115517\n",
      "epoch 283, train loss: 0.115703, validation loss: 0.115641\n",
      "epoch 284, train loss: 0.115620, validation loss: 0.115417\n",
      "epoch 285, train loss: 0.115594, validation loss: 0.115536\n",
      "epoch 286, train loss: 0.115520, validation loss: 0.115319\n",
      "epoch 287, train loss: 0.115488, validation loss: 0.115432\n",
      "epoch 288, train loss: 0.115422, validation loss: 0.115224\n",
      "epoch 289, train loss: 0.115385, validation loss: 0.115330\n",
      "epoch 290, train loss: 0.115327, validation loss: 0.115131\n",
      "epoch 291, train loss: 0.115285, validation loss: 0.115228\n",
      "epoch 292, train loss: 0.115234, validation loss: 0.115040\n",
      "epoch 293, train loss: 0.115188, validation loss: 0.115127\n",
      "epoch 294, train loss: 0.115142, validation loss: 0.114952\n",
      "epoch 295, train loss: 0.115093, validation loss: 0.115028\n",
      "epoch 296, train loss: 0.115053, validation loss: 0.114866\n",
      "epoch 297, train loss: 0.115002, validation loss: 0.114931\n",
      "epoch 298, train loss: 0.114965, validation loss: 0.114782\n",
      "epoch 299, train loss: 0.114913, validation loss: 0.114835\n",
      "epoch 300, train loss: 0.114879, validation loss: 0.114701\n",
      "epoch 301, train loss: 0.114827, validation loss: 0.114741\n",
      "epoch 302, train loss: 0.114795, validation loss: 0.114621\n",
      "epoch 303, train loss: 0.114743, validation loss: 0.114650\n",
      "epoch 304, train loss: 0.114713, validation loss: 0.114544\n",
      "epoch 305, train loss: 0.114662, validation loss: 0.114562\n",
      "epoch 306, train loss: 0.114633, validation loss: 0.114468\n",
      "epoch 307, train loss: 0.114584, validation loss: 0.114476\n",
      "epoch 308, train loss: 0.114554, validation loss: 0.114395\n",
      "epoch 309, train loss: 0.114508, validation loss: 0.114393\n",
      "epoch 310, train loss: 0.114478, validation loss: 0.114325\n",
      "epoch 311, train loss: 0.114435, validation loss: 0.114314\n",
      "epoch 312, train loss: 0.114404, validation loss: 0.114256\n",
      "epoch 313, train loss: 0.114364, validation loss: 0.114238\n",
      "epoch 314, train loss: 0.114333, validation loss: 0.114190\n",
      "epoch 315, train loss: 0.114295, validation loss: 0.114166\n",
      "epoch 316, train loss: 0.114264, validation loss: 0.114125\n",
      "epoch 317, train loss: 0.114229, validation loss: 0.114097\n",
      "epoch 318, train loss: 0.114197, validation loss: 0.114060\n",
      "epoch 319, train loss: 0.114163, validation loss: 0.114030\n",
      "epoch 320, train loss: 0.114132, validation loss: 0.113997\n",
      "epoch 321, train loss: 0.114099, validation loss: 0.113966\n",
      "epoch 322, train loss: 0.114068, validation loss: 0.113934\n",
      "epoch 323, train loss: 0.114037, validation loss: 0.113903\n",
      "epoch 324, train loss: 0.114006, validation loss: 0.113872\n",
      "epoch 325, train loss: 0.113975, validation loss: 0.113842\n",
      "epoch 326, train loss: 0.113945, validation loss: 0.113812\n",
      "epoch 327, train loss: 0.113915, validation loss: 0.113782\n",
      "epoch 328, train loss: 0.113885, validation loss: 0.113752\n",
      "epoch 329, train loss: 0.113855, validation loss: 0.113723\n",
      "epoch 330, train loss: 0.113826, validation loss: 0.113694\n",
      "epoch 331, train loss: 0.113797, validation loss: 0.113665\n",
      "epoch 332, train loss: 0.113769, validation loss: 0.113636\n",
      "epoch 333, train loss: 0.113740, validation loss: 0.113608\n",
      "epoch 334, train loss: 0.113712, validation loss: 0.113580\n",
      "epoch 335, train loss: 0.113685, validation loss: 0.113552\n",
      "epoch 336, train loss: 0.113657, validation loss: 0.113525\n",
      "epoch 337, train loss: 0.113630, validation loss: 0.113498\n",
      "epoch 338, train loss: 0.113603, validation loss: 0.113471\n",
      "epoch 339, train loss: 0.113576, validation loss: 0.113444\n",
      "epoch 340, train loss: 0.113550, validation loss: 0.113417\n",
      "epoch 341, train loss: 0.113523, validation loss: 0.113391\n",
      "epoch 342, train loss: 0.113497, validation loss: 0.113365\n",
      "epoch 343, train loss: 0.113472, validation loss: 0.113339\n",
      "epoch 344, train loss: 0.113446, validation loss: 0.113314\n",
      "epoch 345, train loss: 0.113421, validation loss: 0.113289\n",
      "epoch 346, train loss: 0.113396, validation loss: 0.113264\n",
      "epoch 347, train loss: 0.113371, validation loss: 0.113239\n",
      "epoch 348, train loss: 0.113346, validation loss: 0.113214\n",
      "Validation score stopped improving\n"
     ]
    }
   ],
   "source": [
    "epochs = 500\n",
    "original_patience = 3\n",
    "tolerance = 1e-4\n",
    "best_val_loss = None\n",
    "patience = original_patience\n",
    "\n",
    "for epoch in range(epochs):\n",
    "    train_loss, val_loss = 0, 0\n",
    "    num_batch_train = len(X_short_train) / batch_size\n",
    "    for i in range(num_batch_train):\n",
    "        start_idx = i * batch_size\n",
    "        end_idx = (i + 1) * batch_size\n",
    "        X_train = X_short_train[start_idx:end_idx]\n",
    "        Y_train = Y_short_train[start_idx:end_idx]\n",
    "        train_loss += model.train(X_train, Y_train) / num_batch_train\n",
    "    \n",
    "    # Monitor the validation score at each epoch\n",
    "    num_batch_validation = len(X_short_validation) / batch_size\n",
    "    for i in range(num_batch_validation):\n",
    "        start_idx = i * batch_size\n",
    "        end_idx = (i + 1) * batch_size\n",
    "        X_val = X_short_validation[start_idx:end_idx]\n",
    "        Y_val = Y_short_validation[start_idx:end_idx]\n",
    "        val_loss += model.loss(X_val, Y_val) / num_batch_validation\n",
    "\n",
    "    print(\"epoch %d, train loss: %f, validation loss: %f\"\n",
    "          % (epoch + 1, train_loss, val_loss))\n",
    "    \n",
    "    # Patience based early stopping on validation score\n",
    "    if best_val_loss is None:\n",
    "        best_val_loss = val_loss\n",
    "    elif val_loss < best_val_loss - tolerance:\n",
    "        patience = original_patience\n",
    "        best_val_loss = val_loss\n",
    "    else:\n",
    "        patience -= 1\n",
    "        if patience < 0:\n",
    "            print(\"Validation score stopped improving\")\n",
    "            break"
   ]
  },
  {
   "cell_type": "markdown",
   "metadata": {},
   "source": [
    "Let's compute some predictions to visualize what the network predicts:"
   ]
  },
  {
   "cell_type": "code",
   "execution_count": 56,
   "metadata": {
    "collapsed": false
   },
   "outputs": [
    {
     "data": {
      "text/plain": [
       "(1000, 15, 4)"
      ]
     },
     "execution_count": 56,
     "metadata": {},
     "output_type": "execute_result"
    }
   ],
   "source": [
    "X_short_validation.shape"
   ]
  },
  {
   "cell_type": "code",
   "execution_count": 31,
   "metadata": {
    "collapsed": false
   },
   "outputs": [
    {
     "data": {
      "text/plain": [
       "(256, 15, 4)"
      ]
     },
     "execution_count": 31,
     "metadata": {},
     "output_type": "execute_result"
    }
   ],
   "source": [
    "X_validation_batch = X_short_validation[0:256]\n",
    "X_validation_batch.shape"
   ]
  },
  {
   "cell_type": "code",
   "execution_count": 32,
   "metadata": {
    "collapsed": true
   },
   "outputs": [],
   "source": [
    "predicted = model.predictions(X_validation_batch)"
   ]
  },
  {
   "cell_type": "code",
   "execution_count": 33,
   "metadata": {
    "collapsed": false
   },
   "outputs": [
    {
     "data": {
      "text/plain": [
       "(256, 15, 4)"
      ]
     },
     "execution_count": 33,
     "metadata": {},
     "output_type": "execute_result"
    }
   ],
   "source": [
    "predicted.shape"
   ]
  },
  {
   "cell_type": "markdown",
   "metadata": {},
   "source": [
    "Input symbols for the first sequence of the first batch:"
   ]
  },
  {
   "cell_type": "code",
   "execution_count": 34,
   "metadata": {
    "collapsed": false
   },
   "outputs": [
    {
     "data": {
      "text/plain": [
       "'daadbdbdaaaaaaa'"
      ]
     },
     "execution_count": 34,
     "metadata": {},
     "output_type": "execute_result"
    }
   ],
   "source": [
    "binarray_to_symbols(X_validation_batch[0])"
   ]
  },
  {
   "cell_type": "markdown",
   "metadata": {},
   "source": [
    "Predicted symbols:"
   ]
  },
  {
   "cell_type": "code",
   "execution_count": 35,
   "metadata": {
    "collapsed": false
   },
   "outputs": [
    {
     "data": {
      "text/plain": [
       "'aaaaadbdaaabccc'"
      ]
     },
     "execution_count": 35,
     "metadata": {},
     "output_type": "execute_result"
    }
   ],
   "source": [
    "binarray_to_symbols(predicted[0])"
   ]
  },
  {
   "cell_type": "markdown",
   "metadata": {},
   "source": [
    "Expected / correct output:"
   ]
  },
  {
   "cell_type": "code",
   "execution_count": 36,
   "metadata": {
    "collapsed": false
   },
   "outputs": [
    {
     "data": {
      "text/plain": [
       "'aaaaadbdaaaaaaa'"
      ]
     },
     "execution_count": 36,
     "metadata": {},
     "output_type": "execute_result"
    }
   ],
   "source": [
    "binarray_to_symbols(Y_short_validation[0])"
   ]
  },
  {
   "cell_type": "code",
   "execution_count": 37,
   "metadata": {
    "collapsed": false
   },
   "outputs": [
    {
     "data": {
      "image/png": "[encoded data removed]",
      "text/plain": [
       "<matplotlib.figure.Figure at 0x7faba973b090>"
      ]
     },
     "metadata": {},
     "output_type": "display_data"
    }
   ],
   "source": [
    "plot_parallel_tapes(Y_short_validation[0], predicted[0],\n",
    "                    binarray_to_symbols(X_validation_batch[0]),\n",
    "                    binarray_to_symbols(predicted[0]))"
   ]
  },
  {
   "cell_type": "markdown",
   "metadata": {},
   "source": [
    "## Generating data for a simple memory task\n",
    "\n",
    "The goal of this task is to output the 2nd and 5th element of random input sequences.\n",
    "\n",
    "To solve it, the RNN has to rember the current position (count the element of the sequence) and store some representation of the 2nd and 5th element in its recurrent layer activations.  This task can be made artificially hard by increasing the average lentgh of the sequences as it is likely to be harder to memorize old events."
   ]
  },
  {
   "cell_type": "code",
   "execution_count": 37,
   "metadata": {
    "collapsed": false
   },
   "outputs": [
    {
     "data": {
      "text/plain": [
       "['addddbdbca', 'caaacbcddcab', 'bbabadadbc', 'cdabd', 'dcdabbbd']"
      ]
     },
     "execution_count": 37,
     "metadata": {},
     "output_type": "execute_result"
    }
   ],
   "source": [
    "generate_sequences(n_sequences=5, min_length=5, max_length=15, seed=0)"
   ]
  },
  {
   "cell_type": "markdown",
   "metadata": {},
   "source": [
    "Let's generate the sequences as a data array padded with zeros."
   ]
  },
  {
   "cell_type": "code",
   "execution_count": 38,
   "metadata": {
    "collapsed": true
   },
   "outputs": [],
   "source": [
    "def generate_memory_task_data(n_sequences=1000, min_length=5,\n",
    "                              max_length=15, alphabet=ALPHABET,\n",
    "                              seed=None):\n",
    "    \n",
    "    # Generate the input sequences as symbols\n",
    "    input_sequences = generate_sequences(\n",
    "        n_sequences=n_sequences, min_length=min_length,\n",
    "        max_length=max_length, alphabet=alphabet, seed=seed)\n",
    "    output_sequences = []\n",
    "    \n",
    "    # 2 steps are used for the expected output\n",
    "    n_steps_per_sequence = (max_length + 2)\n",
    "\n",
    "    # Allocate all the data arrays at once and pad with zeros\n",
    "    n_features = len(alphabet)\n",
    "    input_data = np.zeros((n_sequences, n_steps_per_sequence, n_features),\n",
    "                          dtype=np.float32)\n",
    "    output_data = np.zeros((n_sequences, n_steps_per_sequence, n_features),\n",
    "                           dtype=np.float32)\n",
    "    \n",
    "    for sequence_idx, input_sequence in enumerate(input_sequences):\n",
    "        # store the encoded sequence to the input tape\n",
    "        encoded_input = symbols_to_binarray(input_sequence)\n",
    "        input_data[sequence_idx, 0:len(input_sequence)] = encoded_input\n",
    "        \n",
    "        # store the encoded output to the output tape by taking\n",
    "        # the 2nd and 5th symbols of the input sequence\n",
    "        output_sequence = input_sequence[1] + input_sequence[4]\n",
    "        output_sequences.append(output_sequence)\n",
    "        encoded_output = symbols_to_binarray(output_sequence)\n",
    "        start = len(input_sequence)\n",
    "        stop = start + 2\n",
    "        output_data[sequence_idx, start:stop] = encoded_output\n",
    "        \n",
    "    return input_sequences, output_sequences, input_data, output_data"
   ]
  },
  {
   "cell_type": "markdown",
   "metadata": {},
   "source": [
    "Let's generate some reference data for this task with fixed random seeds to make it possible to compare the results of different study groups on the same data.\n",
    "\n",
    "Again, we create 2 datasets, one with only short sequences (from 5 to 15 steps in the input sequence) and one with long sequences (from 20 to 50 steps)."
   ]
  },
  {
   "cell_type": "code",
   "execution_count": 39,
   "metadata": {
    "collapsed": false
   },
   "outputs": [],
   "source": [
    "!rm -rf data/memory_task"
   ]
  },
  {
   "cell_type": "code",
   "execution_count": 40,
   "metadata": {
    "collapsed": false
   },
   "outputs": [
    {
     "name": "stdout",
     "output_type": "stream",
     "text": [
      "Saving symbol sequences data/memory_task/short_sequence_train.json\n",
      "Saving data data/memory_task/short_input_data_train.npy\n",
      "Saving data data/memory_task/short_output_data_train.npy\n",
      "Saving symbol sequences data/memory_task/short_sequence_validation.json\n",
      "Saving data data/memory_task/short_input_data_validation.npy\n",
      "Saving data data/memory_task/short_output_data_validation.npy\n",
      "Saving symbol sequences data/memory_task/short_sequence_test.json\n",
      "Saving data data/memory_task/short_input_data_test.npy\n",
      "Saving data data/memory_task/short_output_data_test.npy\n",
      "Saving symbol sequences data/memory_task/long_sequence_train.json\n",
      "Saving data data/memory_task/long_input_data_train.npy\n",
      "Saving data data/memory_task/long_output_data_train.npy\n",
      "Saving symbol sequences data/memory_task/long_sequence_validation.json\n",
      "Saving data data/memory_task/long_input_data_validation.npy\n",
      "Saving data data/memory_task/long_output_data_validation.npy\n",
      "Saving symbol sequences data/memory_task/long_sequence_test.json\n",
      "Saving data data/memory_task/long_input_data_test.npy\n",
      "Saving data data/memory_task/long_output_data_test.npy\n"
     ]
    }
   ],
   "source": [
    "dataset_specs = [\n",
    "    ('short', dict(min_length=5, max_length=15)),\n",
    "    ('long', dict(min_length=20, max_length=50)),\n",
    "]\n",
    "     \n",
    "fold_specs = [\n",
    "    ('train', dict(n_sequences=5000, seed=0)),\n",
    "    ('validation', dict(n_sequences=1000, seed=1)),\n",
    "    ('test', dict(n_sequences=1000, seed=2)),\n",
    "]\n",
    "\n",
    "data_folder = 'data/memory_task'\n",
    "write_dataset(data_folder, generate_memory_task_data,\n",
    "              dataset_specs, fold_specs)"
   ]
  },
  {
   "cell_type": "markdown",
   "metadata": {},
   "source": [
    "It's possible to reload the save data using pandas for loading the symbolic data in the json files and numpy for the binary data in the `.npy` files:"
   ]
  },
  {
   "cell_type": "code",
   "execution_count": 41,
   "metadata": {
    "collapsed": false
   },
   "outputs": [],
   "source": [
    "short_symbols_train = pd.read_json(\n",
    "    'data/memory_task/short_sequence_train.json')"
   ]
  },
  {
   "cell_type": "code",
   "execution_count": 42,
   "metadata": {
    "collapsed": false
   },
   "outputs": [
    {
     "data": {
      "text/html": [
       "<div style=\"max-height:1000px;max-width:1500px;overflow:auto;\">\n",
       "<table border=\"1\" class=\"dataframe\">\n",
       "  <thead>\n",
       "    <tr style=\"text-align: right;\">\n",
       "      <th></th>\n",
       "      <th>input</th>\n",
       "      <th>output</th>\n",
       "    </tr>\n",
       "  </thead>\n",
       "  <tbody>\n",
       "    <tr>\n",
       "      <th>0</th>\n",
       "      <td>addddbdbca</td>\n",
       "      <td>dd</td>\n",
       "    </tr>\n",
       "    <tr>\n",
       "      <th>1</th>\n",
       "      <td>caaacbcddcab</td>\n",
       "      <td>ac</td>\n",
       "    </tr>\n",
       "    <tr>\n",
       "      <th>2</th>\n",
       "      <td>bbabadadbc</td>\n",
       "      <td>ba</td>\n",
       "    </tr>\n",
       "    <tr>\n",
       "      <th>3</th>\n",
       "      <td>cdabd</td>\n",
       "      <td>dd</td>\n",
       "    </tr>\n",
       "    <tr>\n",
       "      <th>4</th>\n",
       "      <td>dcdabbbd</td>\n",
       "      <td>cb</td>\n",
       "    </tr>\n",
       "  </tbody>\n",
       "</table>\n",
       "</div>"
      ],
      "text/plain": [
       "          input output\n",
       "0    addddbdbca     dd\n",
       "1  caaacbcddcab     ac\n",
       "2    bbabadadbc     ba\n",
       "3         cdabd     dd\n",
       "4      dcdabbbd     cb"
      ]
     },
     "execution_count": 42,
     "metadata": {},
     "output_type": "execute_result"
    }
   ],
   "source": [
    "short_symbols_train.head()"
   ]
  },
  {
   "cell_type": "code",
   "execution_count": 43,
   "metadata": {
    "collapsed": false
   },
   "outputs": [],
   "source": [
    "X_short_train = np.load('data/memory_task/short_input_data_train.npy')\n",
    "Y_short_train = np.load('data/memory_task/short_output_data_train.npy')"
   ]
  },
  {
   "cell_type": "code",
   "execution_count": 44,
   "metadata": {
    "collapsed": false
   },
   "outputs": [
    {
     "data": {
      "image/png": "[encoded data removed]",
      "text/plain": [
       "<matplotlib.figure.Figure at 0x7fe8568102d0>"
      ]
     },
     "metadata": {},
     "output_type": "display_data"
    },
    {
     "data": {
      "image/png": "[encoded data removed]",
      "text/plain": [
       "<matplotlib.figure.Figure at 0x7fe8330a65d0>"
      ]
     },
     "metadata": {},
     "output_type": "display_data"
    },
    {
     "data": {
      "image/png": "[encoded data removed]",
      "text/plain": [
       "<matplotlib.figure.Figure at 0x7fe832e045d0>"
      ]
     },
     "metadata": {},
     "output_type": "display_data"
    }
   ],
   "source": [
    "for i in range(3):\n",
    "    plot_parallel_tapes(X_short_train[i], Y_short_train[i],\n",
    "                        short_symbols_train['input'][i],\n",
    "                        short_symbols_train['output'][i])"
   ]
  },
  {
   "cell_type": "code",
   "execution_count": null,
   "metadata": {
    "collapsed": true
   },
   "outputs": [],
   "source": []
  }
 ],
 "metadata": {
  "kernelspec": {
   "display_name": "Python 2",
   "language": "python",
   "name": "python2"
  },
  "language_info": {
   "codemirror_mode": {
    "name": "ipython",
    "version": 2
   },
   "file_extension": ".py",
   "mimetype": "text/x-python",
   "name": "python",
   "nbconvert_exporter": "python",
   "pygments_lexer": "ipython2",
   "version": "2.7.6"
  }
 },
 "nbformat": 4,
 "nbformat_minor": 0
}
